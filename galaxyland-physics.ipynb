{
 "cells": [
  {
   "attachments": {},
   "cell_type": "markdown",
   "metadata": {},
   "source": [
    "# Galaxyland Ride Data\n",
    "\n",
    "This notebook creates visualizations of acceleration data collected on [Galaxyland](https://www.wem.ca/play/attractions/galaxyland) rides using apps such as [Physics Toolbox Sensor Suite](https://www.vieyrasoftware.net).\n",
    "\n",
    "To run the included Python code, you will need to open this notebook on [Callysto Hub](https://hub.callysto.ca/jupyter/hub/user-redirect/git-pull?repo=https%3A%2F%2Fgithub.com%2FBevFacey%2Fgalaxyland-physics&branch=main&subPath=galaxyland-physics.ipynb&depth=1) or [Google Colab](https://colab.research.google.com/github/BevFacey/galaxyland-physics/blob/main/galaxyland-physics.ipynb).\n",
    "\n",
    "We'll start by importing code libraries for reading data and creating visualizations."
   ]
  },
  {
   "cell_type": "code",
   "execution_count": null,
   "metadata": {},
   "outputs": [],
   "source": [
    "import pandas as pd\n",
    "import plotly.express as px\n",
    "print('Code libraries imported')"
   ]
  },
  {
   "attachments": {},
   "cell_type": "markdown",
   "metadata": {},
   "source": [
    "## Carousel\n",
    "\n",
    "![carousel](https://www.wem.ca/media/2474/gld-attractionlogos-900x900-carousel.png?crop=0.10172413793103449,0.094999999999999987,0.08009404388714747,0.086818181818182&cropmode=percentage&width=580&height=500&rnd=133090205450000000)\n",
    "\n",
    "*from https://www.wem.ca/play/attractions/galaxyland/rides*"
   ]
  },
  {
   "cell_type": "code",
   "execution_count": null,
   "metadata": {},
   "outputs": [],
   "source": [
    "carousel = pd.read_csv('data/carousel.csv')\n",
    "carousel_plot = px.line(carousel, x='time', y=['ax','ay','az','atotal'], title='Galaxyland Accelerations: Carousel').update_xaxes(title='Time (s)').update_yaxes(title='Acceleration (m/s^2)')\n",
    "carousel_plot.show()\n",
    "carousel_plot.write_html('carousel.html')"
   ]
  },
  {
   "attachments": {},
   "cell_type": "markdown",
   "metadata": {},
   "source": [
    "## Flying Galleon\n",
    "\n",
    "![Flying Galleon](https://www.wem.ca/media/2643/gld-attractionlogos-900x900-flyinggalleon.png?anchor=center&mode=crop&width=580&height=500&rnd=132121730620000000)\n",
    "\n",
    "*from https://www.wem.ca/play/attractions/galaxyland/rides*"
   ]
  },
  {
   "cell_type": "code",
   "execution_count": null,
   "metadata": {},
   "outputs": [],
   "source": [
    "flyinggalleon = pd.read_csv('data/flying-galleon.csv')\n",
    "start_time = 45\n",
    "end_time = 160\n",
    "fg_data = flyinggalleon[(flyinggalleon['time'] > start_time) & (flyinggalleon['time'] < end_time)]\n",
    "fg_plot = px.line(fg_data, x='time', y=['ax','ay','az','atotal'], title='Galaxyland Accelerations: Flying Galleon').update_xaxes(title='Time (s)').update_yaxes(title='Acceleration (m/s^2)')\n",
    "fg_plot.show()\n",
    "fg_plot.write_html('flying-galleon.html')"
   ]
  },
  {
   "attachments": {},
   "cell_type": "markdown",
   "metadata": {},
   "source": [
    "## Rainbow Bounce\n",
    "\n",
    "![Rainbow Bounce](https://www.wem.ca/media/360955/_a7r9897-2-edit-1.jpg?anchor=center&mode=crop&width=580&height=500&rnd=133155708200000000)\n",
    "\n",
    "*from https://www.wem.ca/play/attractions/galaxyland/rides*"
   ]
  },
  {
   "cell_type": "code",
   "execution_count": null,
   "metadata": {},
   "outputs": [],
   "source": [
    "rainbowbounce = pd.read_csv('data/rainbow-bounce.csv')\n",
    "rb = px.line(rainbowbounce[rainbowbounce['time']>119], x='time', y=['ax','ay','az','atotal'], title='Galaxyland Accelerations: Rainbow Bounce').update_xaxes(title='Time (s)').update_yaxes(title='Acceleration (m/s^2)')\n",
    "rb.show()\n",
    "rb.write_html('rainbow-bounce.html')"
   ]
  },
  {
   "attachments": {},
   "cell_type": "markdown",
   "metadata": {},
   "source": [
    "## Swing of the Century\n",
    "\n",
    "![Swing of the Century](https://upload.wikimedia.org/wikipedia/commons/thumb/8/84/West_Edmonton_Mall%2C_Edmonton%2C_Alberta_%2821919862869%29.jpg/640px-West_Edmonton_Mall%2C_Edmonton%2C_Alberta_%2821919862869%29.jpg)\n",
    "\n",
    "*By GoToVan from Vancouver, Canada - West Edmonton Mall, Edmonton, Alberta, CC BY 2.0, https://commons.wikimedia.org/w/index.php?curid=60665172*"
   ]
  },
  {
   "cell_type": "code",
   "execution_count": null,
   "metadata": {},
   "outputs": [],
   "source": [
    "swingofthecentury = pd.read_csv('data/swing-of-the-century.csv')\n",
    "sc = px.line(swingofthecentury[swingofthecentury['time'] < 5], x='time', y=['ax','ay','az','atotal'], title='Galaxyland Accelerations: Swing of the Century').update_xaxes(title='Time (s)').update_yaxes(title='Acceleration (m/s^2)')\n",
    "sc.show()\n",
    "sc.write_html('swing-of-the-century.html')"
   ]
  },
  {
   "attachments": {},
   "cell_type": "markdown",
   "metadata": {},
   "source": [
    "## Galaxy Orbiter\n",
    "\n",
    "![Galaxy Orbiter](https://www.wem.ca/media/3092/gld-attractionlogos-900x900-galaxyorbiter.png?anchor=center&mode=crop&width=580&height=500&rnd=133009043050000000)\n",
    "\n",
    "*from https://www.wem.ca/play/attractions/galaxyland/rides*"
   ]
  },
  {
   "cell_type": "code",
   "execution_count": null,
   "metadata": {},
   "outputs": [],
   "source": [
    "galaxyorbiter = pd.read_csv('data/galaxy-orbiter.csv')\n",
    "gao_data = galaxyorbiter[(galaxyorbiter['time'] > 1) & (galaxyorbiter['time'] < 4)]\n",
    "gao = px.line(gao_data, x='time', y=['ax','ay','az','atotal'], title='Galaxyland Accelerations: Galaxy Orbiter').update_xaxes(title='Time (s)').update_yaxes(title='Acceleration (m/s^2)')\n",
    "gao.show()\n",
    "gao.write_html('galaxy-orbiter.html')"
   ]
  }
 ],
 "metadata": {
  "kernelspec": {
   "display_name": "Python 3",
   "language": "python",
   "name": "python3"
  },
  "language_info": {
   "codemirror_mode": {
    "name": "ipython",
    "version": 3
   },
   "file_extension": ".py",
   "mimetype": "text/x-python",
   "name": "python",
   "nbconvert_exporter": "python",
   "pygments_lexer": "ipython3",
   "version": "3.10.6"
  },
  "orig_nbformat": 4,
  "vscode": {
   "interpreter": {
    "hash": "d1ca6d17674200220921376aaeb3d36cffe15ecab2470a9a5e7a456cdbf61425"
   }
  }
 },
 "nbformat": 4,
 "nbformat_minor": 2
}
